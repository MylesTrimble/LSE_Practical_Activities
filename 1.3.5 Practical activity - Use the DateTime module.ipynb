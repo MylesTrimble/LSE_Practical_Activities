{
 "cells": [
  {
   "cell_type": "code",
   "execution_count": 5,
   "id": "e147a144",
   "metadata": {},
   "outputs": [
    {
     "name": "stdout",
     "output_type": "stream",
     "text": [
      "Hour: 14\n",
      "Minute: 42\n",
      "Second: 5\n",
      "microsecond: 566\n"
     ]
    }
   ],
   "source": [
    "# 1\n",
    "\n",
    "from datetime import time\n",
    "t = time(14, 42, 5, 566)\n",
    "\n",
    "print(\"Hour:\", t.hour)\n",
    "print(\"Minute:\", t.minute)\n",
    "print(\"Second:\", t.second)\n",
    "print(\"microsecond:\", t.microsecond)"
   ]
  },
  {
   "cell_type": "code",
   "execution_count": 8,
   "id": "dc5b5531",
   "metadata": {},
   "outputs": [
    {
     "name": "stdout",
     "output_type": "stream",
     "text": [
      "Year: 2019\n",
      "Month: 2\n",
      "Day: 28\n",
      "hour: 23\n",
      "minute: 55\n",
      "Second: 59\n",
      "microsecond: 1023\n"
     ]
    }
   ],
   "source": [
    "# 2\n",
    "\n",
    "from datetime import datetime\n",
    "dt = datetime(2019, 2, 28, 23, 55, 59, 1023)\n",
    "\n",
    "print(\"Year:\", dt.year)\n",
    "print(\"Month:\", dt.month)\n",
    "print(\"Day:\", dt.day)\n",
    "print(\"hour:\", dt.hour)\n",
    "print(\"minute:\", dt.minute)\n",
    "print(\"Second:\", dt.second)\n",
    "print(\"microsecond:\", dt.microsecond)"
   ]
  },
  {
   "cell_type": "code",
   "execution_count": 12,
   "id": "c8d26399",
   "metadata": {},
   "outputs": [
    {
     "name": "stdout",
     "output_type": "stream",
     "text": [
      "Year: 2023\n",
      "Month: 1\n",
      "Day: 11\n"
     ]
    }
   ],
   "source": [
    "# 3\n",
    "\n",
    "from datetime import date\n",
    "today = date.today()\n",
    "\n",
    "print(\"Year:\", today.year)\n",
    "print(\"Month:\", today.month)\n",
    "print(\"Day:\", today.day)"
   ]
  },
  {
   "cell_type": "code",
   "execution_count": 20,
   "id": "bb9c1ed4",
   "metadata": {},
   "outputs": [
    {
     "name": "stdout",
     "output_type": "stream",
     "text": [
      "Origninal data: 2017-01-28 00:00:00\n",
      "Day name: Saturday\n"
     ]
    }
   ],
   "source": [
    "# 4\n",
    "\n",
    "from datetime import datetime\n",
    "\n",
    "day = datetime(2017, 1, 28)\n",
    "\n",
    "print(\"Origninal data:\", day)\n",
    "print(\"Day name:\", day.strftime('%A'))"
   ]
  }
 ],
 "metadata": {
  "kernelspec": {
   "display_name": "Python 3 (ipykernel)",
   "language": "python",
   "name": "python3"
  },
  "language_info": {
   "codemirror_mode": {
    "name": "ipython",
    "version": 3
   },
   "file_extension": ".py",
   "mimetype": "text/x-python",
   "name": "python",
   "nbconvert_exporter": "python",
   "pygments_lexer": "ipython3",
   "version": "3.9.12"
  }
 },
 "nbformat": 4,
 "nbformat_minor": 5
}
