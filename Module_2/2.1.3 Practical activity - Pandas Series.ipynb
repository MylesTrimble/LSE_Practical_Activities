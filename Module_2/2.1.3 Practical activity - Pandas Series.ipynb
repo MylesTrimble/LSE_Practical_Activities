{
 "cells": [
  {
   "cell_type": "code",
   "execution_count": 2,
   "id": "be251f64",
   "metadata": {},
   "outputs": [],
   "source": [
    "import pandas as pd"
   ]
  },
  {
   "cell_type": "markdown",
   "id": "1c185fb0",
   "metadata": {},
   "source": [
    "**Emergency Numbers**"
   ]
  },
  {
   "cell_type": "code",
   "execution_count": 3,
   "id": "6f93a089",
   "metadata": {},
   "outputs": [
    {
     "name": "stdout",
     "output_type": "stream",
     "text": [
      "123              Law Endorcement\n",
      "224      Fire and Rescue Service\n",
      "101    Emergency Meducal Service\n",
      "999         Emergency Management\n",
      "900                 Public Works\n",
      "dtype: object\n"
     ]
    }
   ],
   "source": [
    "# Create a dictionary\n",
    "dict_1 = {'123': 'Law Endorcement',\n",
    "          '224': 'Fire and Rescue Service',\n",
    "          '101': 'Emergency Meducal Service',\n",
    "          '999': 'Emergency Management',\n",
    "          '900': 'Public Works'}\n",
    "\n",
    "# Create a Series \n",
    "emergency_numbers = pd.Series(dict_1)\n",
    "\n",
    "# View the result by passing or calling the print() function\n",
    "print(emergency_numbers)"
   ]
  },
  {
   "cell_type": "markdown",
   "id": "87fd5e85",
   "metadata": {},
   "source": [
    "**Emergency Protocols**"
   ]
  },
  {
   "cell_type": "code",
   "execution_count": 7,
   "id": "b145f7ca",
   "metadata": {},
   "outputs": [
    {
     "name": "stdout",
     "output_type": "stream",
     "text": [
      "0      Prevention\n",
      "1      mitigation\n",
      "2    preparedness\n",
      "3        response\n",
      "4        recovery\n",
      "dtype: object\n"
     ]
    }
   ],
   "source": [
    "# Create a list\n",
    "list_1 = ['Prevention', 'mitigation', 'preparedness', 'response', 'recovery']\n",
    "\n",
    "# Create a Series\n",
    "emergency_protocols = pd.Series(list_1)\n",
    "\n",
    "print(emergency_protocols)"
   ]
  },
  {
   "cell_type": "markdown",
   "id": "dd43c98b",
   "metadata": {},
   "source": [
    "OR"
   ]
  },
  {
   "cell_type": "code",
   "execution_count": 9,
   "id": "33daaa71",
   "metadata": {},
   "outputs": [
    {
     "name": "stdout",
     "output_type": "stream",
     "text": [
      "1      Prevention\n",
      "2      Mitigation\n",
      "3    Preparedness\n",
      "4        Response\n",
      "5        Recovery\n",
      "dtype: object\n"
     ]
    }
   ],
   "source": [
    "# Create a numbered list\n",
    "emergency_protocols = pd.Series(['Prevention', 'Mitigation',\n",
    "                                 'Preparedness', 'Response', \n",
    "                                 'Recovery'],\n",
    "                                index = ['1', '2', '3', '4', '5'])\n",
    "\n",
    "# View the DataFrame\n",
    "print(emergency_protocols)"
   ]
  },
  {
   "cell_type": "markdown",
   "id": "b834879b",
   "metadata": {},
   "source": [
    "**Emergency Checklist**"
   ]
  },
  {
   "cell_type": "code",
   "execution_count": 8,
   "id": "1591f76e",
   "metadata": {},
   "outputs": [
    {
     "name": "stdout",
     "output_type": "stream",
     "text": [
      "0                    Check carotid pulse (neck)\n",
      "1                        Check breathing (nose)\n",
      "2    Check for obstructions (nose, ears, mouth)\n",
      "3                     Check pupils (responsive)\n",
      "4                                 Consciousness\n",
      "5                               Contact details\n",
      "6                                 Any allergies\n",
      "dtype: object\n"
     ]
    }
   ],
   "source": [
    "# Create a Series from a list\n",
    "checklist = ['Check carotid pulse (neck)', 'Check breathing (nose)',\n",
    "             'Check for obstructions (nose, ears, mouth)', \n",
    "             'Check pupils (responsive)', 'Consciousness',\n",
    "             'Contact details', 'Any allergies']\n",
    "\n",
    "emergency_checklist = pd.Series(checklist)\n",
    "\n",
    "# View the DataFrame\n",
    "print(emergency_checklist)"
   ]
  }
 ],
 "metadata": {
  "kernelspec": {
   "display_name": "Python 3 (ipykernel)",
   "language": "python",
   "name": "python3"
  },
  "language_info": {
   "codemirror_mode": {
    "name": "ipython",
    "version": 3
   },
   "file_extension": ".py",
   "mimetype": "text/x-python",
   "name": "python",
   "nbconvert_exporter": "python",
   "pygments_lexer": "ipython3",
   "version": "3.9.12"
  }
 },
 "nbformat": 4,
 "nbformat_minor": 5
}
