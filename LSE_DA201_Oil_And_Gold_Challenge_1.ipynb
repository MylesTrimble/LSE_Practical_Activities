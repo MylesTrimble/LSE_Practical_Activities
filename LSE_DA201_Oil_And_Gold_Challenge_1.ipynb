{
 "cells": [
  {
   "cell_type": "markdown",
   "metadata": {},
   "source": [
    "### LSE Data Analytics Online Career Accelerator\n",
    "\n",
    "# DA201: Data Analytics Using Python"
   ]
  },
  {
   "cell_type": "markdown",
   "metadata": {},
   "source": [
    "## Module 3 (Optional) Challenge activity: Wrangle your data using Pandas"
   ]
  },
  {
   "cell_type": "markdown",
   "metadata": {},
   "source": [
    "You are employed by Investgenics, an investment firm that specialises in financial data analytics for businesses. The firm provides potential investors with investment advice and planning. As a data consultant, you will need to perform an in-depth analysis of the data to formulate investment strategies for clients, helping them fulfil their needs and reach their financial goals.\n",
    "\n",
    "As a rule of investing, an investor shouldn’t invest everything in a single place; instead, they should be able to distribute the risks by investing in diverse resources to maximise returns while minimising risk. Although stocks are the leading investment vehicles, historically, investing in commodities such as gold and oil often ensures great returns as well.\n",
    "\n",
    "Investgenics has a solid reputation for accurately forecasting stocks and commodity-based investments leveraging descriptive and diagnostic analytics. The firm has a robust Python architecture that will let you perform analysis with increased efficiency and productive application across various sources of data that would provide a well-rounded answer to the business objectives. \n",
    "\n",
    "In the previous challenge, you calculated the stocks with the highest and lowest level. However, for this week, you will apply your Pandas knowledge to understand your data better and solve some specific problems for Investgenics. The following business questions were posed:\n",
    "\n",
    "- What is the daily average price of gold and oil in British pounds (GBP)?\n",
    "- How does the daily average price (GBP) of gold and oil compare?"
   ]
  },
  {
   "cell_type": "markdown",
   "metadata": {},
   "source": [
    "## 1.0 Prepare your workstation"
   ]
  },
  {
   "cell_type": "code",
   "execution_count": 2,
   "metadata": {},
   "outputs": [
    {
     "name": "stdout",
     "output_type": "stream",
     "text": [
      "(1844, 6)\n",
      "Date      object\n",
      "Price    float64\n",
      "Open     float64\n",
      "High     float64\n",
      "Low      float64\n",
      "Vol.      object\n",
      "dtype: object\n",
      "(1718, 81)\n",
      "Date              object\n",
      "Open             float64\n",
      "High             float64\n",
      "Low              float64\n",
      "Close            float64\n",
      "                  ...   \n",
      "USO_High         float64\n",
      "USO_Low          float64\n",
      "USO_Close        float64\n",
      "USO_Adj Close    float64\n",
      "USO_Volume         int64\n",
      "Length: 81, dtype: object\n"
     ]
    }
   ],
   "source": [
    "# Import Pandas.\n",
    "import pandas as pd\n",
    "\n",
    "# Import the CSV files.\n",
    "oil = pd.read_csv('oil_price.csv')\n",
    "gold = pd.read_csv('gold_stocks_price.csv')\n",
    "\n",
    "# View the DataFrames.\n",
    "print(oil.shape)\n",
    "print(oil.dtypes)\n",
    "\n",
    "# View the gold DataFrame.\n",
    "print(gold.shape)\n",
    "print(gold.dtypes)"
   ]
  },
  {
   "cell_type": "markdown",
   "metadata": {},
   "source": [
    "## 2.1 Create a subset DataFrame based on `gold_stocks_price.csv`"
   ]
  },
  {
   "cell_type": "code",
   "execution_count": 3,
   "metadata": {},
   "outputs": [
    {
     "name": "stdout",
     "output_type": "stream",
     "text": [
      "(500, 4)\n",
      "Date              object\n",
      "Open             float64\n",
      "High             float64\n",
      "Low              float64\n",
      "Close            float64\n",
      "                  ...   \n",
      "USO_High         float64\n",
      "USO_Low          float64\n",
      "USO_Close        float64\n",
      "USO_Adj Close    float64\n",
      "USO_Volume         int64\n",
      "Length: 81, dtype: object\n"
     ]
    }
   ],
   "source": [
    "# Subset the gold DataFrame.\n",
    "gold_subset = gold[['Date', 'Open', 'High', 'Low']]\n",
    "\n",
    "# Slice the gold_subset to 500 rows.\n",
    "gold_subset = gold_subset.iloc[:500]\n",
    "\n",
    "# View gold_subset.\n",
    "print(gold_subset.shape)\n",
    "print(gold.dtypes)"
   ]
  },
  {
   "cell_type": "code",
   "execution_count": 4,
   "metadata": {},
   "outputs": [
    {
     "data": {
      "text/plain": [
       "Date    0\n",
       "Open    0\n",
       "High    0\n",
       "Low     0\n",
       "dtype: int64"
      ]
     },
     "execution_count": 4,
     "metadata": {},
     "output_type": "execute_result"
    }
   ],
   "source": [
    "# Determine the missing values.\n",
    "gold_subset.isna().sum()"
   ]
  },
  {
   "cell_type": "code",
   "execution_count": 5,
   "metadata": {},
   "outputs": [
    {
     "name": "stdout",
     "output_type": "stream",
     "text": [
      "117.580002\n",
      "173.199997\n"
     ]
    }
   ],
   "source": [
    "# Calculate min and max value for column\\ for subsetted gold dataframe. \n",
    "print(gold_subset['Open'].min())\n",
    "print(gold_subset['Open'].max())"
   ]
  },
  {
   "cell_type": "code",
   "execution_count": 6,
   "metadata": {},
   "outputs": [
    {
     "name": "stdout",
     "output_type": "stream",
     "text": [
      "118.18\n",
      "174.070007\n"
     ]
    }
   ],
   "source": [
    "print(gold_subset['High'].min())\n",
    "print(gold_subset['High'].max())"
   ]
  },
  {
   "cell_type": "code",
   "execution_count": 7,
   "metadata": {},
   "outputs": [
    {
     "name": "stdout",
     "output_type": "stream",
     "text": [
      "116.739998\n",
      "172.919998\n"
     ]
    }
   ],
   "source": [
    "print(gold_subset['Low'].min())\n",
    "print(gold_subset['Low'].max())"
   ]
  },
  {
   "cell_type": "markdown",
   "metadata": {
    "hidden": true,
    "id": "OM7t_eNrzReG"
   },
   "source": [
    "### Alternate way using print statement : "
   ]
  },
  {
   "cell_type": "code",
   "execution_count": 8,
   "metadata": {
    "colab": {
     "base_uri": "https://localhost:8080/"
    },
    "executionInfo": {
     "elapsed": 35,
     "status": "ok",
     "timestamp": 1646906026305,
     "user": {
      "displayName": "Jeevak Ghosh",
      "photoUrl": "https://lh3.googleusercontent.com/a/default-user=s64",
      "userId": "10153434038967682924"
     },
     "user_tz": -330
    },
    "hidden": true,
    "id": "3Q1yGMYLzReG",
    "outputId": "d5ba0e0f-2a5c-4756-bb4c-496235e7542f"
   },
   "outputs": [
    {
     "name": "stdout",
     "output_type": "stream",
     "text": [
      "The maximum value for open is the subsetted gold dataframe is 173.199997\n",
      "The minimum value for open is the subsetted gold dataframe is 117.580002\n",
      "The maximum value for high is the subsetted gold dataframe is 174.070007\n",
      "The minimum value for high is the subsetted gold dataframe is 118.18\n",
      "The maximum value for low is the subsetted gold dataframe is 172.919998\n",
      "The minimum value for low is the subsetted gold dataframe is 116.739998\n"
     ]
    }
   ],
   "source": [
    "print(f\"The maximum value for open is the subsetted gold dataframe is {gold_subset['Open'].max()}\")\n",
    "print(f\"The minimum value for open is the subsetted gold dataframe is {gold_subset['Open'].min()}\")\n",
    "\n",
    "print(f\"The maximum value for high is the subsetted gold dataframe is {gold_subset['High'].max()}\")\n",
    "print(f\"The minimum value for high is the subsetted gold dataframe is {gold_subset['High'].min()}\")\n",
    "\n",
    "print(f\"The maximum value for low is the subsetted gold dataframe is {gold_subset['Low'].max()}\")\n",
    "print(f\"The minimum value for low is the subsetted gold dataframe is {gold_subset['Low'].min()}\")"
   ]
  },
  {
   "cell_type": "markdown",
   "metadata": {},
   "source": [
    "# "
   ]
  },
  {
   "cell_type": "markdown",
   "metadata": {},
   "source": [
    "## 2.2 Create a subset DataFrame based on `oil_price.csv`"
   ]
  },
  {
   "cell_type": "code",
   "execution_count": 9,
   "metadata": {},
   "outputs": [
    {
     "name": "stdout",
     "output_type": "stream",
     "text": [
      "(500, 4)\n",
      "Date      object\n",
      "Price    float64\n",
      "Open     float64\n",
      "High     float64\n",
      "Low      float64\n",
      "Vol.      object\n",
      "dtype: object\n"
     ]
    }
   ],
   "source": [
    "# Subset the oil DataFrame.\n",
    "oil_subset = oil[['Date', 'Open', 'High', 'Low']]\n",
    "\n",
    "# Slice the oil_subset to 500 rows.\n",
    "oil_subset = oil_subset.iloc[:500]\n",
    "\n",
    "# View the oil_subset.\n",
    "print(oil_subset.shape)\n",
    "print(oil.dtypes)"
   ]
  },
  {
   "cell_type": "code",
   "execution_count": 10,
   "metadata": {},
   "outputs": [
    {
     "data": {
      "text/plain": [
       "Date    0\n",
       "Open    0\n",
       "High    0\n",
       "Low     0\n",
       "dtype: int64"
      ]
     },
     "execution_count": 10,
     "metadata": {},
     "output_type": "execute_result"
    }
   ],
   "source": [
    "# Determine the missing values.\n",
    "oil_subset.isna().sum()"
   ]
  },
  {
   "cell_type": "code",
   "execution_count": 11,
   "metadata": {},
   "outputs": [
    {
     "name": "stdout",
     "output_type": "stream",
     "text": [
      "78.11\n",
      "110.28\n"
     ]
    }
   ],
   "source": [
    "# Calculate the min and max value for column\\ for subsetted gold dataframe. \n",
    "print(oil_subset['Open'].min())\n",
    "print(oil_subset['Open'].max())"
   ]
  },
  {
   "cell_type": "code",
   "execution_count": 12,
   "metadata": {},
   "outputs": [
    {
     "name": "stdout",
     "output_type": "stream",
     "text": [
      "79.68\n",
      "112.24\n"
     ]
    }
   ],
   "source": [
    "print(oil_subset['High'].min())\n",
    "print(oil_subset['High'].max())"
   ]
  },
  {
   "cell_type": "code",
   "execution_count": 13,
   "metadata": {},
   "outputs": [
    {
     "name": "stdout",
     "output_type": "stream",
     "text": [
      "77.28\n",
      "109.11\n"
     ]
    }
   ],
   "source": [
    "print(oil_subset['Low'].min())\n",
    "print(oil_subset['Low'].max())"
   ]
  },
  {
   "cell_type": "markdown",
   "metadata": {
    "hidden": true,
    "id": "OM7t_eNrzReG"
   },
   "source": [
    "### Alternate way using print statement : "
   ]
  },
  {
   "cell_type": "code",
   "execution_count": 14,
   "metadata": {
    "colab": {
     "base_uri": "https://localhost:8080/"
    },
    "executionInfo": {
     "elapsed": 35,
     "status": "ok",
     "timestamp": 1646906026305,
     "user": {
      "displayName": "Jeevak Ghosh",
      "photoUrl": "https://lh3.googleusercontent.com/a/default-user=s64",
      "userId": "10153434038967682924"
     },
     "user_tz": -330
    },
    "hidden": true,
    "id": "3Q1yGMYLzReG",
    "outputId": "d5ba0e0f-2a5c-4756-bb4c-496235e7542f"
   },
   "outputs": [
    {
     "name": "stdout",
     "output_type": "stream",
     "text": [
      "The maximum value for open is the subsetted oil dataframe is 110.28\n",
      "The minimum value for open is the subsetted oil dataframe is 78.11\n",
      "The maximum value for high is the subsetted oil dataframe is 112.24\n",
      "The minimum value for high is the subsetted oil dataframe is 79.68\n",
      "The maximum value for low is the subsetted oil dataframe is 109.11\n",
      "The minimum value for low is the subsetted oil dataframe is 77.28\n"
     ]
    }
   ],
   "source": [
    "print(f\"The maximum value for open is the subsetted oil dataframe is {oil_subset['Open'].max()}\")\n",
    "print(f\"The minimum value for open is the subsetted oil dataframe is {oil_subset['Open'].min()}\")\n",
    "\n",
    "print(f\"The maximum value for high is the subsetted oil dataframe is {oil_subset['High'].max()}\")\n",
    "print(f\"The minimum value for high is the subsetted oil dataframe is {oil_subset['High'].min()}\")\n",
    "\n",
    "print(f\"The maximum value for low is the subsetted oil dataframe is {oil_subset['Low'].max()}\")\n",
    "print(f\"The minimum value for low is the subsetted oil dataframe is {oil_subset['Low'].min()}\")"
   ]
  },
  {
   "cell_type": "markdown",
   "metadata": {},
   "source": [
    "# "
   ]
  },
  {
   "cell_type": "markdown",
   "metadata": {},
   "source": [
    "## 2.3 Statistical analysis"
   ]
  },
  {
   "cell_type": "code",
   "execution_count": 28,
   "metadata": {},
   "outputs": [
    {
     "data": {
      "text/html": [
       "<div>\n",
       "<style scoped>\n",
       "    .dataframe tbody tr th:only-of-type {\n",
       "        vertical-align: middle;\n",
       "    }\n",
       "\n",
       "    .dataframe tbody tr th {\n",
       "        vertical-align: top;\n",
       "    }\n",
       "\n",
       "    .dataframe thead th {\n",
       "        text-align: right;\n",
       "    }\n",
       "</style>\n",
       "<table border=\"1\" class=\"dataframe\">\n",
       "  <thead>\n",
       "    <tr style=\"text-align: right;\">\n",
       "      <th></th>\n",
       "      <th>Open</th>\n",
       "      <th>High</th>\n",
       "      <th>Low</th>\n",
       "      <th>average_gold</th>\n",
       "      <th>avg_gold_GBP</th>\n",
       "    </tr>\n",
       "  </thead>\n",
       "  <tbody>\n",
       "    <tr>\n",
       "      <th>count</th>\n",
       "      <td>500.000000</td>\n",
       "      <td>500.000000</td>\n",
       "      <td>500.000000</td>\n",
       "      <td>500.000000</td>\n",
       "      <td>500.000000</td>\n",
       "    </tr>\n",
       "    <tr>\n",
       "      <th>mean</th>\n",
       "      <td>149.033480</td>\n",
       "      <td>149.774340</td>\n",
       "      <td>148.266740</td>\n",
       "      <td>149.024853</td>\n",
       "      <td>119.219883</td>\n",
       "    </tr>\n",
       "    <tr>\n",
       "      <th>std</th>\n",
       "      <td>16.923214</td>\n",
       "      <td>16.919180</td>\n",
       "      <td>16.871447</td>\n",
       "      <td>16.897580</td>\n",
       "      <td>13.518064</td>\n",
       "    </tr>\n",
       "    <tr>\n",
       "      <th>min</th>\n",
       "      <td>117.580002</td>\n",
       "      <td>118.180000</td>\n",
       "      <td>116.739998</td>\n",
       "      <td>117.666667</td>\n",
       "      <td>94.133333</td>\n",
       "    </tr>\n",
       "    <tr>\n",
       "      <th>25%</th>\n",
       "      <td>132.134998</td>\n",
       "      <td>133.144997</td>\n",
       "      <td>131.192501</td>\n",
       "      <td>132.302504</td>\n",
       "      <td>105.842003</td>\n",
       "    </tr>\n",
       "    <tr>\n",
       "      <th>50%</th>\n",
       "      <td>155.070000</td>\n",
       "      <td>155.610001</td>\n",
       "      <td>154.360001</td>\n",
       "      <td>155.051669</td>\n",
       "      <td>124.041335</td>\n",
       "    </tr>\n",
       "    <tr>\n",
       "      <th>75%</th>\n",
       "      <td>161.862500</td>\n",
       "      <td>162.577500</td>\n",
       "      <td>161.149994</td>\n",
       "      <td>161.802498</td>\n",
       "      <td>129.441998</td>\n",
       "    </tr>\n",
       "    <tr>\n",
       "      <th>max</th>\n",
       "      <td>173.199997</td>\n",
       "      <td>174.070007</td>\n",
       "      <td>172.919998</td>\n",
       "      <td>173.396667</td>\n",
       "      <td>138.717334</td>\n",
       "    </tr>\n",
       "  </tbody>\n",
       "</table>\n",
       "</div>"
      ],
      "text/plain": [
       "             Open        High         Low  average_gold  avg_gold_GBP\n",
       "count  500.000000  500.000000  500.000000    500.000000    500.000000\n",
       "mean   149.033480  149.774340  148.266740    149.024853    119.219883\n",
       "std     16.923214   16.919180   16.871447     16.897580     13.518064\n",
       "min    117.580002  118.180000  116.739998    117.666667     94.133333\n",
       "25%    132.134998  133.144997  131.192501    132.302504    105.842003\n",
       "50%    155.070000  155.610001  154.360001    155.051669    124.041335\n",
       "75%    161.862500  162.577500  161.149994    161.802498    129.441998\n",
       "max    173.199997  174.070007  172.919998    173.396667    138.717334"
      ]
     },
     "execution_count": 28,
     "metadata": {},
     "output_type": "execute_result"
    }
   ],
   "source": [
    "# Use the describe() function.\n",
    "gold_subset.describe()"
   ]
  },
  {
   "cell_type": "code",
   "execution_count": 29,
   "metadata": {},
   "outputs": [
    {
     "data": {
      "text/html": [
       "<div>\n",
       "<style scoped>\n",
       "    .dataframe tbody tr th:only-of-type {\n",
       "        vertical-align: middle;\n",
       "    }\n",
       "\n",
       "    .dataframe tbody tr th {\n",
       "        vertical-align: top;\n",
       "    }\n",
       "\n",
       "    .dataframe thead th {\n",
       "        text-align: right;\n",
       "    }\n",
       "</style>\n",
       "<table border=\"1\" class=\"dataframe\">\n",
       "  <thead>\n",
       "    <tr style=\"text-align: right;\">\n",
       "      <th></th>\n",
       "      <th>Open</th>\n",
       "      <th>High</th>\n",
       "      <th>Low</th>\n",
       "      <th>average_oil</th>\n",
       "      <th>avg_oil_GBP</th>\n",
       "    </tr>\n",
       "  </thead>\n",
       "  <tbody>\n",
       "    <tr>\n",
       "      <th>count</th>\n",
       "      <td>500.000000</td>\n",
       "      <td>500.000000</td>\n",
       "      <td>500.000000</td>\n",
       "      <td>500.000000</td>\n",
       "      <td>500.000000</td>\n",
       "    </tr>\n",
       "    <tr>\n",
       "      <th>mean</th>\n",
       "      <td>96.196620</td>\n",
       "      <td>97.153780</td>\n",
       "      <td>95.084320</td>\n",
       "      <td>96.144907</td>\n",
       "      <td>76.915925</td>\n",
       "    </tr>\n",
       "    <tr>\n",
       "      <th>std</th>\n",
       "      <td>6.991871</td>\n",
       "      <td>6.945661</td>\n",
       "      <td>7.003769</td>\n",
       "      <td>6.962806</td>\n",
       "      <td>5.570245</td>\n",
       "    </tr>\n",
       "    <tr>\n",
       "      <th>min</th>\n",
       "      <td>78.110000</td>\n",
       "      <td>79.680000</td>\n",
       "      <td>77.280000</td>\n",
       "      <td>78.680000</td>\n",
       "      <td>62.944000</td>\n",
       "    </tr>\n",
       "    <tr>\n",
       "      <th>25%</th>\n",
       "      <td>91.707500</td>\n",
       "      <td>92.627500</td>\n",
       "      <td>90.645000</td>\n",
       "      <td>91.702500</td>\n",
       "      <td>73.362000</td>\n",
       "    </tr>\n",
       "    <tr>\n",
       "      <th>50%</th>\n",
       "      <td>95.790000</td>\n",
       "      <td>96.640000</td>\n",
       "      <td>94.820000</td>\n",
       "      <td>95.811667</td>\n",
       "      <td>76.649333</td>\n",
       "    </tr>\n",
       "    <tr>\n",
       "      <th>75%</th>\n",
       "      <td>102.002500</td>\n",
       "      <td>102.962500</td>\n",
       "      <td>100.847500</td>\n",
       "      <td>101.875000</td>\n",
       "      <td>81.500000</td>\n",
       "    </tr>\n",
       "    <tr>\n",
       "      <th>max</th>\n",
       "      <td>110.280000</td>\n",
       "      <td>112.240000</td>\n",
       "      <td>109.110000</td>\n",
       "      <td>110.190000</td>\n",
       "      <td>88.152000</td>\n",
       "    </tr>\n",
       "  </tbody>\n",
       "</table>\n",
       "</div>"
      ],
      "text/plain": [
       "             Open        High         Low  average_oil  avg_oil_GBP\n",
       "count  500.000000  500.000000  500.000000   500.000000   500.000000\n",
       "mean    96.196620   97.153780   95.084320    96.144907    76.915925\n",
       "std      6.991871    6.945661    7.003769     6.962806     5.570245\n",
       "min     78.110000   79.680000   77.280000    78.680000    62.944000\n",
       "25%     91.707500   92.627500   90.645000    91.702500    73.362000\n",
       "50%     95.790000   96.640000   94.820000    95.811667    76.649333\n",
       "75%    102.002500  102.962500  100.847500   101.875000    81.500000\n",
       "max    110.280000  112.240000  109.110000   110.190000    88.152000"
      ]
     },
     "execution_count": 29,
     "metadata": {},
     "output_type": "execute_result"
    }
   ],
   "source": [
    "oil_subset.describe()"
   ]
  },
  {
   "cell_type": "markdown",
   "metadata": {},
   "source": [
    "## 3.1 Determine the daily average price of gold and oil."
   ]
  },
  {
   "cell_type": "code",
   "execution_count": 31,
   "metadata": {},
   "outputs": [
    {
     "data": {
      "text/html": [
       "<div>\n",
       "<style scoped>\n",
       "    .dataframe tbody tr th:only-of-type {\n",
       "        vertical-align: middle;\n",
       "    }\n",
       "\n",
       "    .dataframe tbody tr th {\n",
       "        vertical-align: top;\n",
       "    }\n",
       "\n",
       "    .dataframe thead th {\n",
       "        text-align: right;\n",
       "    }\n",
       "</style>\n",
       "<table border=\"1\" class=\"dataframe\">\n",
       "  <thead>\n",
       "    <tr style=\"text-align: right;\">\n",
       "      <th></th>\n",
       "      <th>Date</th>\n",
       "      <th>Open</th>\n",
       "      <th>High</th>\n",
       "      <th>Low</th>\n",
       "      <th>average_gold</th>\n",
       "      <th>avg_gold_GBP</th>\n",
       "    </tr>\n",
       "  </thead>\n",
       "  <tbody>\n",
       "    <tr>\n",
       "      <th>0</th>\n",
       "      <td>2011-12-15</td>\n",
       "      <td>154.74</td>\n",
       "      <td>154.95</td>\n",
       "      <td>151.71</td>\n",
       "      <td>153.80</td>\n",
       "      <td>123.04</td>\n",
       "    </tr>\n",
       "    <tr>\n",
       "      <th>1</th>\n",
       "      <td>2011-12-16</td>\n",
       "      <td>154.31</td>\n",
       "      <td>155.37</td>\n",
       "      <td>153.90</td>\n",
       "      <td>154.53</td>\n",
       "      <td>123.62</td>\n",
       "    </tr>\n",
       "    <tr>\n",
       "      <th>2</th>\n",
       "      <td>2011-12-19</td>\n",
       "      <td>155.48</td>\n",
       "      <td>155.86</td>\n",
       "      <td>154.36</td>\n",
       "      <td>155.23</td>\n",
       "      <td>124.19</td>\n",
       "    </tr>\n",
       "    <tr>\n",
       "      <th>3</th>\n",
       "      <td>2011-12-20</td>\n",
       "      <td>156.82</td>\n",
       "      <td>157.43</td>\n",
       "      <td>156.58</td>\n",
       "      <td>156.94</td>\n",
       "      <td>125.55</td>\n",
       "    </tr>\n",
       "    <tr>\n",
       "      <th>4</th>\n",
       "      <td>2011-12-21</td>\n",
       "      <td>156.98</td>\n",
       "      <td>157.53</td>\n",
       "      <td>156.13</td>\n",
       "      <td>156.88</td>\n",
       "      <td>125.50</td>\n",
       "    </tr>\n",
       "  </tbody>\n",
       "</table>\n",
       "</div>"
      ],
      "text/plain": [
       "         Date    Open    High     Low  average_gold  avg_gold_GBP\n",
       "0  2011-12-15  154.74  154.95  151.71        153.80        123.04\n",
       "1  2011-12-16  154.31  155.37  153.90        154.53        123.62\n",
       "2  2011-12-19  155.48  155.86  154.36        155.23        124.19\n",
       "3  2011-12-20  156.82  157.43  156.58        156.94        125.55\n",
       "4  2011-12-21  156.98  157.53  156.13        156.88        125.50"
      ]
     },
     "execution_count": 31,
     "metadata": {},
     "output_type": "execute_result"
    }
   ],
   "source": [
    "# Determine the average price of gold per day.\n",
    "# Write a user-defined function.\n",
    "def avg_col3(x, y, z):\n",
    "    a = (x + y + z)/3\n",
    "    return a\n",
    "\n",
    "# Insert avg into a new column.\n",
    "gold_subset['average_gold'] = avg_col3(gold_subset['Open'], gold_subset['High'], gold_subset['Low'])\n",
    "\n",
    "# View the DataFrame.\n",
    "gold_subset.round(2).head()"
   ]
  },
  {
   "cell_type": "code",
   "execution_count": 32,
   "metadata": {},
   "outputs": [
    {
     "data": {
      "text/html": [
       "<div>\n",
       "<style scoped>\n",
       "    .dataframe tbody tr th:only-of-type {\n",
       "        vertical-align: middle;\n",
       "    }\n",
       "\n",
       "    .dataframe tbody tr th {\n",
       "        vertical-align: top;\n",
       "    }\n",
       "\n",
       "    .dataframe thead th {\n",
       "        text-align: right;\n",
       "    }\n",
       "</style>\n",
       "<table border=\"1\" class=\"dataframe\">\n",
       "  <thead>\n",
       "    <tr style=\"text-align: right;\">\n",
       "      <th></th>\n",
       "      <th>Date</th>\n",
       "      <th>Open</th>\n",
       "      <th>High</th>\n",
       "      <th>Low</th>\n",
       "      <th>average_oil</th>\n",
       "      <th>avg_oil_GBP</th>\n",
       "    </tr>\n",
       "  </thead>\n",
       "  <tbody>\n",
       "    <tr>\n",
       "      <th>0</th>\n",
       "      <td>2011-12-01</td>\n",
       "      <td>100.51</td>\n",
       "      <td>101.17</td>\n",
       "      <td>98.87</td>\n",
       "      <td>100.18</td>\n",
       "      <td>80.15</td>\n",
       "    </tr>\n",
       "    <tr>\n",
       "      <th>1</th>\n",
       "      <td>2011-12-02</td>\n",
       "      <td>100.00</td>\n",
       "      <td>101.56</td>\n",
       "      <td>99.76</td>\n",
       "      <td>100.44</td>\n",
       "      <td>80.35</td>\n",
       "    </tr>\n",
       "    <tr>\n",
       "      <th>2</th>\n",
       "      <td>2011-12-05</td>\n",
       "      <td>101.23</td>\n",
       "      <td>102.44</td>\n",
       "      <td>100.24</td>\n",
       "      <td>101.30</td>\n",
       "      <td>81.04</td>\n",
       "    </tr>\n",
       "    <tr>\n",
       "      <th>3</th>\n",
       "      <td>2011-12-06</td>\n",
       "      <td>100.45</td>\n",
       "      <td>101.42</td>\n",
       "      <td>100.20</td>\n",
       "      <td>100.69</td>\n",
       "      <td>80.55</td>\n",
       "    </tr>\n",
       "    <tr>\n",
       "      <th>4</th>\n",
       "      <td>2011-12-07</td>\n",
       "      <td>101.11</td>\n",
       "      <td>101.94</td>\n",
       "      <td>99.67</td>\n",
       "      <td>100.91</td>\n",
       "      <td>80.73</td>\n",
       "    </tr>\n",
       "  </tbody>\n",
       "</table>\n",
       "</div>"
      ],
      "text/plain": [
       "         Date    Open    High     Low  average_oil  avg_oil_GBP\n",
       "0  2011-12-01  100.51  101.17   98.87       100.18        80.15\n",
       "1  2011-12-02  100.00  101.56   99.76       100.44        80.35\n",
       "2  2011-12-05  101.23  102.44  100.24       101.30        81.04\n",
       "3  2011-12-06  100.45  101.42  100.20       100.69        80.55\n",
       "4  2011-12-07  101.11  101.94   99.67       100.91        80.73"
      ]
     },
     "execution_count": 32,
     "metadata": {},
     "output_type": "execute_result"
    }
   ],
   "source": [
    "# Calculate the average of oil prices per day.\n",
    "# Write a user-defined function.\n",
    "def avg_col3(x, y, z):\n",
    "    a = (x + y + z)/3\n",
    "    return a\n",
    "\n",
    "oil_subset['average_oil'] = avg_col3(oil_subset['Open'], oil_subset['High'], oil_subset['Low'])\n",
    "\n",
    "# View the DataFrame.\n",
    "oil_subset.round(2).head()"
   ]
  },
  {
   "cell_type": "markdown",
   "metadata": {},
   "source": [
    "# "
   ]
  },
  {
   "cell_type": "markdown",
   "metadata": {},
   "source": [
    "## 3.2 Convert the daily average price of gold and oil from US dollars to British Pound"
   ]
  },
  {
   "cell_type": "code",
   "execution_count": 33,
   "metadata": {},
   "outputs": [
    {
     "data": {
      "text/html": [
       "<div>\n",
       "<style scoped>\n",
       "    .dataframe tbody tr th:only-of-type {\n",
       "        vertical-align: middle;\n",
       "    }\n",
       "\n",
       "    .dataframe tbody tr th {\n",
       "        vertical-align: top;\n",
       "    }\n",
       "\n",
       "    .dataframe thead th {\n",
       "        text-align: right;\n",
       "    }\n",
       "</style>\n",
       "<table border=\"1\" class=\"dataframe\">\n",
       "  <thead>\n",
       "    <tr style=\"text-align: right;\">\n",
       "      <th></th>\n",
       "      <th>Date</th>\n",
       "      <th>Open</th>\n",
       "      <th>High</th>\n",
       "      <th>Low</th>\n",
       "      <th>average_gold</th>\n",
       "      <th>avg_gold_GBP</th>\n",
       "    </tr>\n",
       "  </thead>\n",
       "  <tbody>\n",
       "    <tr>\n",
       "      <th>0</th>\n",
       "      <td>2011-12-15</td>\n",
       "      <td>154.74</td>\n",
       "      <td>154.95</td>\n",
       "      <td>151.71</td>\n",
       "      <td>153.80</td>\n",
       "      <td>123.04</td>\n",
       "    </tr>\n",
       "    <tr>\n",
       "      <th>1</th>\n",
       "      <td>2011-12-16</td>\n",
       "      <td>154.31</td>\n",
       "      <td>155.37</td>\n",
       "      <td>153.90</td>\n",
       "      <td>154.53</td>\n",
       "      <td>123.62</td>\n",
       "    </tr>\n",
       "    <tr>\n",
       "      <th>2</th>\n",
       "      <td>2011-12-19</td>\n",
       "      <td>155.48</td>\n",
       "      <td>155.86</td>\n",
       "      <td>154.36</td>\n",
       "      <td>155.23</td>\n",
       "      <td>124.19</td>\n",
       "    </tr>\n",
       "    <tr>\n",
       "      <th>3</th>\n",
       "      <td>2011-12-20</td>\n",
       "      <td>156.82</td>\n",
       "      <td>157.43</td>\n",
       "      <td>156.58</td>\n",
       "      <td>156.94</td>\n",
       "      <td>125.55</td>\n",
       "    </tr>\n",
       "    <tr>\n",
       "      <th>4</th>\n",
       "      <td>2011-12-21</td>\n",
       "      <td>156.98</td>\n",
       "      <td>157.53</td>\n",
       "      <td>156.13</td>\n",
       "      <td>156.88</td>\n",
       "      <td>125.50</td>\n",
       "    </tr>\n",
       "  </tbody>\n",
       "</table>\n",
       "</div>"
      ],
      "text/plain": [
       "         Date    Open    High     Low  average_gold  avg_gold_GBP\n",
       "0  2011-12-15  154.74  154.95  151.71        153.80        123.04\n",
       "1  2011-12-16  154.31  155.37  153.90        154.53        123.62\n",
       "2  2011-12-19  155.48  155.86  154.36        155.23        124.19\n",
       "3  2011-12-20  156.82  157.43  156.58        156.94        125.55\n",
       "4  2011-12-21  156.98  157.53  156.13        156.88        125.50"
      ]
     },
     "execution_count": 33,
     "metadata": {},
     "output_type": "execute_result"
    }
   ],
   "source": [
    "# Employ lambda function to convert US dollars to British pounds.\n",
    "# Where 1 US$ = 0.8 GBP.\n",
    "gold_subset['avg_gold_GBP'] = gold_subset['average_gold'].apply(lambda x: x*0.8)\n",
    "\n",
    "# View the DataFrame.\n",
    "gold_subset.round(2).head()"
   ]
  },
  {
   "cell_type": "code",
   "execution_count": 34,
   "metadata": {},
   "outputs": [
    {
     "data": {
      "text/html": [
       "<div>\n",
       "<style scoped>\n",
       "    .dataframe tbody tr th:only-of-type {\n",
       "        vertical-align: middle;\n",
       "    }\n",
       "\n",
       "    .dataframe tbody tr th {\n",
       "        vertical-align: top;\n",
       "    }\n",
       "\n",
       "    .dataframe thead th {\n",
       "        text-align: right;\n",
       "    }\n",
       "</style>\n",
       "<table border=\"1\" class=\"dataframe\">\n",
       "  <thead>\n",
       "    <tr style=\"text-align: right;\">\n",
       "      <th></th>\n",
       "      <th>Date</th>\n",
       "      <th>Open</th>\n",
       "      <th>High</th>\n",
       "      <th>Low</th>\n",
       "      <th>average_oil</th>\n",
       "      <th>avg_oil_GBP</th>\n",
       "    </tr>\n",
       "  </thead>\n",
       "  <tbody>\n",
       "    <tr>\n",
       "      <th>0</th>\n",
       "      <td>2011-12-01</td>\n",
       "      <td>100.51</td>\n",
       "      <td>101.17</td>\n",
       "      <td>98.87</td>\n",
       "      <td>100.18</td>\n",
       "      <td>80.15</td>\n",
       "    </tr>\n",
       "    <tr>\n",
       "      <th>1</th>\n",
       "      <td>2011-12-02</td>\n",
       "      <td>100.00</td>\n",
       "      <td>101.56</td>\n",
       "      <td>99.76</td>\n",
       "      <td>100.44</td>\n",
       "      <td>80.35</td>\n",
       "    </tr>\n",
       "    <tr>\n",
       "      <th>2</th>\n",
       "      <td>2011-12-05</td>\n",
       "      <td>101.23</td>\n",
       "      <td>102.44</td>\n",
       "      <td>100.24</td>\n",
       "      <td>101.30</td>\n",
       "      <td>81.04</td>\n",
       "    </tr>\n",
       "    <tr>\n",
       "      <th>3</th>\n",
       "      <td>2011-12-06</td>\n",
       "      <td>100.45</td>\n",
       "      <td>101.42</td>\n",
       "      <td>100.20</td>\n",
       "      <td>100.69</td>\n",
       "      <td>80.55</td>\n",
       "    </tr>\n",
       "    <tr>\n",
       "      <th>4</th>\n",
       "      <td>2011-12-07</td>\n",
       "      <td>101.11</td>\n",
       "      <td>101.94</td>\n",
       "      <td>99.67</td>\n",
       "      <td>100.91</td>\n",
       "      <td>80.73</td>\n",
       "    </tr>\n",
       "  </tbody>\n",
       "</table>\n",
       "</div>"
      ],
      "text/plain": [
       "         Date    Open    High     Low  average_oil  avg_oil_GBP\n",
       "0  2011-12-01  100.51  101.17   98.87       100.18        80.15\n",
       "1  2011-12-02  100.00  101.56   99.76       100.44        80.35\n",
       "2  2011-12-05  101.23  102.44  100.24       101.30        81.04\n",
       "3  2011-12-06  100.45  101.42  100.20       100.69        80.55\n",
       "4  2011-12-07  101.11  101.94   99.67       100.91        80.73"
      ]
     },
     "execution_count": 34,
     "metadata": {},
     "output_type": "execute_result"
    }
   ],
   "source": [
    "# Employ lambda function to convert US dollars to British pounds.\n",
    "# Where 1 US$ = 0.8 GBP.\n",
    "oil_subset['avg_oil_GBP'] = oil_subset['average_oil'].apply(lambda x: x*0.8)\n",
    "\n",
    "# View the DataFrame.\n",
    "oil_subset.round(2).head()"
   ]
  },
  {
   "cell_type": "markdown",
   "metadata": {},
   "source": [
    "# "
   ]
  },
  {
   "cell_type": "markdown",
   "metadata": {},
   "source": [
    "## 3.3 Compare the average gold and oil price in GBP"
   ]
  },
  {
   "cell_type": "code",
   "execution_count": 24,
   "metadata": {},
   "outputs": [
    {
     "data": {
      "text/html": [
       "<div>\n",
       "<style scoped>\n",
       "    .dataframe tbody tr th:only-of-type {\n",
       "        vertical-align: middle;\n",
       "    }\n",
       "\n",
       "    .dataframe tbody tr th {\n",
       "        vertical-align: top;\n",
       "    }\n",
       "\n",
       "    .dataframe thead th {\n",
       "        text-align: right;\n",
       "    }\n",
       "</style>\n",
       "<table border=\"1\" class=\"dataframe\">\n",
       "  <thead>\n",
       "    <tr style=\"text-align: right;\">\n",
       "      <th></th>\n",
       "      <th>Date</th>\n",
       "      <th>avg_gold_GBP</th>\n",
       "    </tr>\n",
       "  </thead>\n",
       "  <tbody>\n",
       "    <tr>\n",
       "      <th>0</th>\n",
       "      <td>2011-12-15</td>\n",
       "      <td>123.040002</td>\n",
       "    </tr>\n",
       "    <tr>\n",
       "      <th>1</th>\n",
       "      <td>2011-12-16</td>\n",
       "      <td>123.621330</td>\n",
       "    </tr>\n",
       "    <tr>\n",
       "      <th>2</th>\n",
       "      <td>2011-12-19</td>\n",
       "      <td>124.186666</td>\n",
       "    </tr>\n",
       "    <tr>\n",
       "      <th>3</th>\n",
       "      <td>2011-12-20</td>\n",
       "      <td>125.554667</td>\n",
       "    </tr>\n",
       "    <tr>\n",
       "      <th>4</th>\n",
       "      <td>2011-12-21</td>\n",
       "      <td>125.504000</td>\n",
       "    </tr>\n",
       "  </tbody>\n",
       "</table>\n",
       "</div>"
      ],
      "text/plain": [
       "         Date  avg_gold_GBP\n",
       "0  2011-12-15    123.040002\n",
       "1  2011-12-16    123.621330\n",
       "2  2011-12-19    124.186666\n",
       "3  2011-12-20    125.554667\n",
       "4  2011-12-21    125.504000"
      ]
     },
     "execution_count": 24,
     "metadata": {},
     "output_type": "execute_result"
    }
   ],
   "source": [
    "# Subset the gold df with date and average prie.\n",
    "gold = gold_subset[['Date', 'avg_gold_GBP']]\n",
    "\n",
    "gold.head()"
   ]
  },
  {
   "cell_type": "code",
   "execution_count": 25,
   "metadata": {},
   "outputs": [
    {
     "data": {
      "text/html": [
       "<div>\n",
       "<style scoped>\n",
       "    .dataframe tbody tr th:only-of-type {\n",
       "        vertical-align: middle;\n",
       "    }\n",
       "\n",
       "    .dataframe tbody tr th {\n",
       "        vertical-align: top;\n",
       "    }\n",
       "\n",
       "    .dataframe thead th {\n",
       "        text-align: right;\n",
       "    }\n",
       "</style>\n",
       "<table border=\"1\" class=\"dataframe\">\n",
       "  <thead>\n",
       "    <tr style=\"text-align: right;\">\n",
       "      <th></th>\n",
       "      <th>Date</th>\n",
       "      <th>avg_oil_GBP</th>\n",
       "    </tr>\n",
       "  </thead>\n",
       "  <tbody>\n",
       "    <tr>\n",
       "      <th>0</th>\n",
       "      <td>2011-12-01</td>\n",
       "      <td>80.146667</td>\n",
       "    </tr>\n",
       "    <tr>\n",
       "      <th>1</th>\n",
       "      <td>2011-12-02</td>\n",
       "      <td>80.352000</td>\n",
       "    </tr>\n",
       "    <tr>\n",
       "      <th>2</th>\n",
       "      <td>2011-12-05</td>\n",
       "      <td>81.042667</td>\n",
       "    </tr>\n",
       "    <tr>\n",
       "      <th>3</th>\n",
       "      <td>2011-12-06</td>\n",
       "      <td>80.552000</td>\n",
       "    </tr>\n",
       "    <tr>\n",
       "      <th>4</th>\n",
       "      <td>2011-12-07</td>\n",
       "      <td>80.725333</td>\n",
       "    </tr>\n",
       "  </tbody>\n",
       "</table>\n",
       "</div>"
      ],
      "text/plain": [
       "         Date  avg_oil_GBP\n",
       "0  2011-12-01    80.146667\n",
       "1  2011-12-02    80.352000\n",
       "2  2011-12-05    81.042667\n",
       "3  2011-12-06    80.552000\n",
       "4  2011-12-07    80.725333"
      ]
     },
     "execution_count": 25,
     "metadata": {},
     "output_type": "execute_result"
    }
   ],
   "source": [
    "# Subset the oil df with date ad average price.\n",
    "oil = oil_subset[['Date', 'avg_oil_GBP']]\n",
    "\n",
    "oil.head()"
   ]
  },
  {
   "cell_type": "code",
   "execution_count": 26,
   "metadata": {},
   "outputs": [
    {
     "data": {
      "text/html": [
       "<div>\n",
       "<style scoped>\n",
       "    .dataframe tbody tr th:only-of-type {\n",
       "        vertical-align: middle;\n",
       "    }\n",
       "\n",
       "    .dataframe tbody tr th {\n",
       "        vertical-align: top;\n",
       "    }\n",
       "\n",
       "    .dataframe thead th {\n",
       "        text-align: right;\n",
       "    }\n",
       "</style>\n",
       "<table border=\"1\" class=\"dataframe\">\n",
       "  <thead>\n",
       "    <tr style=\"text-align: right;\">\n",
       "      <th></th>\n",
       "      <th>Date</th>\n",
       "      <th>avg_gold_GBP</th>\n",
       "      <th>avg_oil_GBP</th>\n",
       "    </tr>\n",
       "  </thead>\n",
       "  <tbody>\n",
       "    <tr>\n",
       "      <th>0</th>\n",
       "      <td>2011-12-15</td>\n",
       "      <td>123.040002</td>\n",
       "      <td>75.784000</td>\n",
       "    </tr>\n",
       "    <tr>\n",
       "      <th>1</th>\n",
       "      <td>2011-12-16</td>\n",
       "      <td>123.621330</td>\n",
       "      <td>74.861333</td>\n",
       "    </tr>\n",
       "    <tr>\n",
       "      <th>2</th>\n",
       "      <td>2011-12-19</td>\n",
       "      <td>124.186666</td>\n",
       "      <td>74.858667</td>\n",
       "    </tr>\n",
       "    <tr>\n",
       "      <th>3</th>\n",
       "      <td>2011-12-20</td>\n",
       "      <td>125.554667</td>\n",
       "      <td>76.194667</td>\n",
       "    </tr>\n",
       "    <tr>\n",
       "      <th>4</th>\n",
       "      <td>2011-12-21</td>\n",
       "      <td>125.504000</td>\n",
       "      <td>78.288000</td>\n",
       "    </tr>\n",
       "  </tbody>\n",
       "</table>\n",
       "</div>"
      ],
      "text/plain": [
       "         Date  avg_gold_GBP  avg_oil_GBP\n",
       "0  2011-12-15    123.040002    75.784000\n",
       "1  2011-12-16    123.621330    74.861333\n",
       "2  2011-12-19    124.186666    74.858667\n",
       "3  2011-12-20    125.554667    76.194667\n",
       "4  2011-12-21    125.504000    78.288000"
      ]
     },
     "execution_count": 26,
     "metadata": {},
     "output_type": "execute_result"
    }
   ],
   "source": [
    "# Merge the two DataFrames.\n",
    "gold_oil = pd.merge(gold, oil, on='Date', how='left')\n",
    "\n",
    "gold_oil.head()"
   ]
  },
  {
   "cell_type": "code",
   "execution_count": null,
   "metadata": {},
   "outputs": [],
   "source": []
  }
 ],
 "metadata": {
  "colab": {
   "collapsed_sections": [
    "PBAPYdEhzReC",
    "tdWfO9PCzReE",
    "OM7t_eNrzReG",
    "cfMzjT6pzReH",
    "CZTyPHzDzReI",
    "s2iD065TzReJ",
    "SnNshKt5zReJ",
    "V7xUeiKrzReK",
    "zOXKimZ4zReL",
    "SvZTnBmyzReQ",
    "Y2YLj6FrzReR",
    "ECePc8y8zReS",
    "Fh4M8-k0zReT",
    "5JAcRKy6zReT",
    "UT5_bQnrzReU",
    "RF9QNsh4zReU",
    "usVV5r2gzReU",
    "J07Z9Ea0zReV",
    "DN4NKUMazReV",
    "pBLwItT3zReW"
   ],
   "name": "Activities for Week 4(continued from week 2 and 3 activity).ipynb",
   "provenance": []
  },
  "kernelspec": {
   "display_name": "Python 3 (ipykernel)",
   "language": "python",
   "name": "python3"
  },
  "language_info": {
   "codemirror_mode": {
    "name": "ipython",
    "version": 3
   },
   "file_extension": ".py",
   "mimetype": "text/x-python",
   "name": "python",
   "nbconvert_exporter": "python",
   "pygments_lexer": "ipython3",
   "version": "3.9.12"
  },
  "toc": {
   "base_numbering": 1,
   "nav_menu": {},
   "number_sections": false,
   "sideBar": true,
   "skip_h1_title": false,
   "title_cell": "Table of Contents",
   "title_sidebar": "Contents",
   "toc_cell": false,
   "toc_position": {},
   "toc_section_display": true,
   "toc_window_display": false
  }
 },
 "nbformat": 4,
 "nbformat_minor": 4
}
