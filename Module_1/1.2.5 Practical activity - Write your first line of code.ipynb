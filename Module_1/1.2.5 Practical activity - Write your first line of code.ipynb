{
 "cells": [
  {
   "cell_type": "code",
   "execution_count": 1,
   "id": "d8b09c61",
   "metadata": {},
   "outputs": [
    {
     "name": "stdout",
     "output_type": "stream",
     "text": [
      "My name is Myles\n",
      "The date is 09/01/23\n"
     ]
    }
   ],
   "source": [
    "# This is my first line of code\n",
    "\n",
    "print(\"My name is Myles\")\n",
    "print(\"The date is 09/01/23\")"
   ]
  },
  {
   "cell_type": "code",
   "execution_count": 2,
   "id": "19bd09d3",
   "metadata": {},
   "outputs": [],
   "source": [
    "# Write a program to analyse real estate data\n",
    "\n",
    "a=45000\n",
    "b=23400\n",
    "c=67000\n",
    "d=34600\n",
    "e=12900"
   ]
  },
  {
   "cell_type": "code",
   "execution_count": 12,
   "id": "53d557b5",
   "metadata": {},
   "outputs": [
    {
     "name": "stdout",
     "output_type": "stream",
     "text": [
      "182900\n"
     ]
    }
   ],
   "source": [
    "# Total sales in December\n",
    "\n",
    "total_sales = a+b+c+d+e\n",
    "\n",
    "print(total_sales)"
   ]
  },
  {
   "cell_type": "code",
   "execution_count": 9,
   "id": "976459ee",
   "metadata": {},
   "outputs": [
    {
     "name": "stdout",
     "output_type": "stream",
     "text": [
      "36580.0\n"
     ]
    }
   ],
   "source": [
    "# Average sales price in December\n",
    "\n",
    "avg_sales = total_sales / 5\n",
    "\n",
    "print(avg_sales)"
   ]
  },
  {
   "cell_type": "code",
   "execution_count": 10,
   "id": "79070e55",
   "metadata": {},
   "outputs": [
    {
     "name": "stdout",
     "output_type": "stream",
     "text": [
      "60500\n"
     ]
    }
   ],
   "source": [
    "# Property price for property c\n",
    "\n",
    "print(67000-6500)"
   ]
  },
  {
   "cell_type": "code",
   "execution_count": null,
   "id": "2dbca21e",
   "metadata": {},
   "outputs": [],
   "source": []
  }
 ],
 "metadata": {
  "kernelspec": {
   "display_name": "Python 3 (ipykernel)",
   "language": "python",
   "name": "python3"
  },
  "language_info": {
   "codemirror_mode": {
    "name": "ipython",
    "version": 3
   },
   "file_extension": ".py",
   "mimetype": "text/x-python",
   "name": "python",
   "nbconvert_exporter": "python",
   "pygments_lexer": "ipython3",
   "version": "3.9.12"
  }
 },
 "nbformat": 4,
 "nbformat_minor": 5
}
